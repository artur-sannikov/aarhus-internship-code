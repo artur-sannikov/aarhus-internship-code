{
 "cells": [
  {
   "cell_type": "markdown",
   "id": "d929ae56-cdd1-41c3-93a5-005d5300a30b",
   "metadata": {},
   "source": [
    "# Creating Big Table with Quality Metrics of the *Candidatus* Electrothrix communis RB sample\n",
    "\n",
    "The purpose of this notebook is to create a big dataset that combines the bin names and the CheckM quality metrics:\n",
    "1. Completeness\n",
    "2. Contamination\n",
    "\n",
    "This table will be useful when we have to prioritize the taxa we want to look into: for example, it's better to select those that have higher completeness and lower contamination. The \"marine_gs\" abbreviation stands for \"Marine Golden Standard\", which is an internal name for the *Candidatus* Electrothrix communis RB species."
   ]
  },
  {
   "cell_type": "code",
   "execution_count": 1,
   "id": "8af15cae-9d2e-4544-a6ad-5744a53f4be2",
   "metadata": {},
   "outputs": [],
   "source": [
    "import pandas as pd\n",
    "\n",
    "# Relevant columns\n",
    "checkm_cols = [\"Bin Id\", \"Completeness\", \"Contamination\"]\n",
    "\n",
    "# Open Candidatus Electrothrix communis RB CheckM dataset\n",
    "marine_gs_illumina_checkm = pd.read_table(\n",
    "    \"binning/results/2022-05-11/checkm/marine_gs_illumina/metabat/bacteria/marine_gs_illumina_results_bacteria.tsv\",\n",
    "    usecols=checkm_cols,\n",
    ")\n",
    "\n",
    "# Open Candidatus Electrothrix communis RB taxonomic table\n",
    "marine_gs_illumna_taxonomy = pd.read_table(\n",
    "    \"taxonomy/results/2022-05-16/gtdbtk/marine_gs_illumina_metabat/gtdbtk.bac120.summary.Illumina.tsv\",\n",
    "    usecols=[\"user_genome\", \"classification\"]\n",
    ")\n",
    "\n",
    "# Rename user_genome from taxonomic table to match the column name in CheckM dataset\n",
    "marine_gs_illumna_taxonomy = marine_gs_illumna_taxonomy.rename(columns={\"user_genome\": \"Bin Id\"})"
   ]
  },
  {
   "cell_type": "code",
   "execution_count": 2,
   "id": "6e35d4cf-ee92-48f1-b985-03d0c2fe84f1",
   "metadata": {},
   "outputs": [],
   "source": [
    "### Merge datasets ###\n",
    "marine_gs_illumina_taxa_quality = marine_gs_illumna_taxonomy.merge(marine_gs_illumina_checkm, on=[\"Bin Id\"])\n",
    "\n",
    "# Save dataset to csv files\n",
    "marine_gs_illumina_taxa_quality.to_csv(\"marine_gs_illumina_taxa_quality.csv\", index=False)"
   ]
  }
 ],
 "metadata": {
  "kernelspec": {
   "display_name": "Python 3 (ipykernel)",
   "language": "python",
   "name": "python3"
  },
  "language_info": {
   "codemirror_mode": {
    "name": "ipython",
    "version": 3
   },
   "file_extension": ".py",
   "mimetype": "text/x-python",
   "name": "python",
   "nbconvert_exporter": "python",
   "pygments_lexer": "ipython3",
   "version": "3.10.4"
  }
 },
 "nbformat": 4,
 "nbformat_minor": 5
}
