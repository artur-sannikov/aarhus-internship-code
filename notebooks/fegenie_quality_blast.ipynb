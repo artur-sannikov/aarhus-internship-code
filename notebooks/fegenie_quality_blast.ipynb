{
 "cells": [
  {
   "cell_type": "markdown",
   "id": "e00b696b-b906-4f10-85c3-745e12ebeebb",
   "metadata": {},
   "source": [
    "# Merge taxonomic classification, FeGenie output, quality metrics, protein hits, and bin abundance into one table"
   ]
  },
  {
   "cell_type": "code",
   "execution_count": 1,
   "id": "1e884594-08a4-4e70-a7c9-719a71227048",
   "metadata": {},
   "outputs": [],
   "source": [
    "import pandas as pd"
   ]
  },
  {
   "cell_type": "code",
   "execution_count": 2,
   "id": "9a0c29e8-0b9e-436c-91a8-5fcffe4ca239",
   "metadata": {},
   "outputs": [],
   "source": [
    "# Open FeGenie/quality/abundance tables\n",
    "kaloevig_fg_q_a = pd.read_csv(\"genes/results/2022-05-19/kaloevig_quality_taxa_fegenie.csv\")\n",
    "loegten_fg_q_a = pd.read_csv(\"genes/results/2022-05-19/loegten_quality_taxa_fegenie.csv\")\n",
    "marine_gs_illumina_fg_q_a = pd.read_csv(\"genes/results/2022-05-19/marine_gs_illumina_quality_taxa_fegenie.csv\")"
   ]
  },
  {
   "cell_type": "code",
   "execution_count": 3,
   "id": "bd086686-79f5-4a74-9036-208613360d3a",
   "metadata": {},
   "outputs": [],
   "source": [
    "# Open BLAST tables\n",
    "kaloevig_blast = pd.read_csv(\"genes/results/2022-04-28/blast/kaloevig_contig_hits.csv\")\n",
    "loegten_blast = pd.read_csv(\"genes/results/2022-04-28/blast/loegten_contig_hits.csv\")\n",
    "marine_gs_illumina_blast = pd.read_csv(\"genes/results/2022-05-20/blast/marine_gs_illumina_contig_hits.csv\")"
   ]
  },
  {
   "cell_type": "code",
   "execution_count": 4,
   "id": "0fecd536-f9bd-4d7f-ae9e-3690894ec123",
   "metadata": {},
   "outputs": [],
   "source": [
    "# Rename the first column of BLAST tables to match it with quality/abundance table\n",
    "for df in [kaloevig_blast, loegten_blast, marine_gs_illumina_blast]:\n",
    "    df.rename(columns={\"Unnamed: 0\": \"Bin Id\"}, inplace=True)"
   ]
  },
  {
   "cell_type": "code",
   "execution_count": 5,
   "id": "3d20a123-c283-4442-b664-d4005a34a87b",
   "metadata": {},
   "outputs": [],
   "source": [
    "# Merge tables\n",
    "kaloevig_merged = kaloevig_fg_q_a.merge(kaloevig_blast, on=\"Bin Id\", how=\"outer\")\n",
    "loegten_merged = loegten_fg_q_a.merge(loegten_blast, on=\"Bin Id\", how=\"outer\")\n",
    "marine_gs_illumina_merged = marine_gs_illumina_fg_q_a.merge(marine_gs_illumina_blast, on=\"Bin Id\", how=\"outer\")"
   ]
  },
  {
   "cell_type": "code",
   "execution_count": 6,
   "id": "f3fe3504-7948-464f-b416-4c88fdf988d8",
   "metadata": {},
   "outputs": [],
   "source": [
    "# Save to csv files\n",
    "kaloevig_merged.to_csv(\"genes/results/2022-05-23/kaloevig_genes.csv\", index=False)\n",
    "loegten_merged.to_csv(\"genes/results/2022-05-23/loegten_genes.csv\", index=False)\n",
    "marine_gs_illumina_merged.to_csv(\"genes/results/2022-05-23/marine_gs_illumina_genes.csv\", index=False)"
   ]
  }
 ],
 "metadata": {
  "kernelspec": {
   "display_name": "Python 3 (ipykernel)",
   "language": "python",
   "name": "python3"
  },
  "language_info": {
   "codemirror_mode": {
    "name": "ipython",
    "version": 3
   },
   "file_extension": ".py",
   "mimetype": "text/x-python",
   "name": "python",
   "nbconvert_exporter": "python",
   "pygments_lexer": "ipython3",
   "version": "3.10.4"
  }
 },
 "nbformat": 4,
 "nbformat_minor": 5
}
