{
 "cells": [
  {
   "cell_type": "markdown",
   "id": "d929ae56-cdd1-41c3-93a5-005d5300a30b",
   "metadata": {},
   "source": [
    "# Creating Big Table with Quality Metrics\n",
    "\n",
    "The purpose of this notebook is to create a big notebook that combine the bin names and the following quality metrics:\n",
    "1. Completeness\n",
    "2. Contamination\n",
    "3. N50\n",
    "4. L50\n",
    "5. \\# contigs\n",
    "6. Largest contig\n",
    "7. Total length\n",
    "\n",
    "This table will be useful when we have to prioritize the taxa we want to look into: for example, it's better to select those that have higher completeness and lower contamination."
   ]
  },
  {
   "cell_type": "code",
   "execution_count": 1,
   "id": "8af15cae-9d2e-4544-a6ad-5744a53f4be2",
   "metadata": {},
   "outputs": [],
   "source": [
    "import pandas as pd\n",
    "\n",
    "# Relevant columns\n",
    "checkm_cols = [\"Bin Id\", \"Completeness\", \"Contamination\"]\n",
    "quast_cols = [\"Assembly\", \"# contigs\", \"Largest contig\", \"Total length\", \"N50\", \"L50\"]\n",
    "\n",
    "# Open Kaloevig CheckM and Quast datasets\n",
    "kaloevig_checkm = pd.read_table(\n",
    "    \"results_final_kaloevig_bins_checkm.tsv\", usecols=checkm_cols\n",
    ")\n",
    "kaloevig_quast = pd.read_table(\"report_kaloevig_quast_T.tsv\", usecols=quast_cols)\n",
    "\n",
    "# Open Loegten CheckM and Quast datasets\n",
    "loegten_checkm = pd.read_table(\n",
    "    \"results_final_loegten_bins_checkm.tsv\", usecols=checkm_cols\n",
    ")\n",
    "loegten_quast = pd.read_table(\"report_loegten_quast_T.tsv\", usecols=quast_cols)\n",
    "\n",
    "# Rename Quast Assembly column to Bin Id to match with CheckM datasets\n",
    "kaloevig_quast = kaloevig_quast.rename(columns={\"Assembly\": \"Bin Id\"})\n",
    "loegten_quast = loegten_quast.rename(columns={\"Assembly\": \"Bin Id\"})"
   ]
  },
  {
   "cell_type": "code",
   "execution_count": 2,
   "id": "6e35d4cf-ee92-48f1-b985-03d0c2fe84f1",
   "metadata": {},
   "outputs": [],
   "source": [
    "### Merge datasets ###\n",
    "# Kaloevig\n",
    "kaloevig_quality_table = kaloevig_checkm.merge(kaloevig_quast, on=[\"Bin Id\"])\n",
    "\n",
    "# Loegten\n",
    "loegten_quality_table = loegten_checkm.merge(loegten_quast, on=[\"Bin Id\"])\n",
    "\n",
    "# Save datasets to csv files\n",
    "kaloevig_quality_table.to_csv(\"kaloevig_quality_table.csv\", index=False)\n",
    "loegten_quality_table.to_csv(\"loegten_quality_table.csv\", index=False)"
   ]
  }
 ],
 "metadata": {
  "kernelspec": {
   "display_name": "Python 3 (ipykernel)",
   "language": "python",
   "name": "python3"
  },
  "language_info": {
   "codemirror_mode": {
    "name": "ipython",
    "version": 3
   },
   "file_extension": ".py",
   "mimetype": "text/x-python",
   "name": "python",
   "nbconvert_exporter": "python",
   "pygments_lexer": "ipython3",
   "version": "3.10.2"
  }
 },
 "nbformat": 4,
 "nbformat_minor": 5
}
