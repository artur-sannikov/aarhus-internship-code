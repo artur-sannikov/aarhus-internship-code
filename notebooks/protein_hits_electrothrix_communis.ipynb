{
 "cells": [
  {
   "cell_type": "markdown",
   "id": "f3aeb55d-b2a3-4b88-bf78-8d93fc4188fa",
   "metadata": {},
   "source": [
    "# Protein Hits Count in *Candidatus Electrothrix communis RB*\n",
    "\n",
    "This is the same notebook I used for to compute the protein hits for the Kalø Vig and Løgten samples but adapted to the *Candidatus Electrothrix communis RB* sample. For further information (for example, about multiple hits) please refer to the original notebook `protein_hits.ipynb`."
   ]
  },
  {
   "cell_type": "code",
   "execution_count": 1,
   "id": "a6a61938-e20d-4627-bb91-021b4064c012",
   "metadata": {},
   "outputs": [],
   "source": [
    "import os\n",
    "from pathlib import Path\n",
    "\n",
    "import numpy as np\n",
    "import pandas as pd\n",
    "from Bio import SeqIO"
   ]
  },
  {
   "cell_type": "code",
   "execution_count": 2,
   "id": "bc771160-f678-4306-811e-2326747b6c80",
   "metadata": {},
   "outputs": [],
   "source": [
    "# Open BLAST output tables\n",
    "marine_gs_illumina_blast = pd.read_table(\n",
    "    \"genes/results/2022-05-19/blast/marine_gs_illumina/marine_gs_illumina_omc_blast.tsv\",\n",
    "    header=None,\n",
    ")\n",
    "\n",
    "# Drop the duplicated protein sequence-contig pairs with the highest e-value\n",
    "marine_gs_illumina_blast = marine_gs_illumina_blast.sort_values(10).drop_duplicates(\n",
    "    subset=[0, 1]\n",
    ")\n",
    "\n",
    "# Select the first two columns\n",
    "marine_gs_illumina_blast = marine_gs_illumina_blast.iloc[:, [0, 1, 10]]\n",
    "\n",
    "# Add column names\n",
    "marine_gs_illumina_blast.columns = [\"protein_id\", \"contig\", \"e-value\"]"
   ]
  },
  {
   "cell_type": "markdown",
   "id": "bbd6fd10-7f31-49e8-abfa-a8d2159a3d48",
   "metadata": {},
   "source": [
    "What may happen is that we have the exactly same protein sequence (with the underscore) to appear in two different query protein sequences. This will confuse the results as when we expect just one hit for that protein sequence, there may be two in two different query protein sequences.\n",
    "\n",
    "For example, if we have the exactly same protein sequence to appear in two different protein, it may seem like we have two hits in two different protein (row 2) while in reality, we only have one hit in one protein (row 1).\n",
    "\n",
    "|      | Protein 1 | Protein 2 | Correct |\n",
    "|------|-----------|-----------|---------|\n",
    "| bin1 | 1         | 0         | True    |\n",
    "| bin1 | 1         | 1         | False   |\n",
    "\n",
    "Thus, I will remove the duplicated contigs (protein sequences) from the BLAST output beforehand keeping the ones with the lowest e-value."
   ]
  },
  {
   "cell_type": "code",
   "execution_count": 3,
   "id": "10b5c91f-3439-44e7-bd04-1d8ee9d7e53b",
   "metadata": {},
   "outputs": [],
   "source": [
    "def remove_contig_dups(df):\n",
    "    \"\"\"\n",
    "    Remove the duplicated protein sequences (inside contigs) with the highest e-value from BLAST output.\n",
    "\n",
    "    Parameters\n",
    "    ----------\n",
    "    df: pd.DataFrame\n",
    "        Input dataframe, should have e-value and contig columns\n",
    "    Returns\n",
    "    -------\n",
    "    pd.DataFrame\n",
    "    \"\"\"\n",
    "    return df.sort_values(\"e-value\").drop_duplicates(subset=[\"contig\"])\n",
    "\n",
    "marine_gs_illumina_blast = remove_contig_dups(marine_gs_illumina_blast)"
   ]
  },
  {
   "cell_type": "code",
   "execution_count": 4,
   "id": "40e5b73f-58bb-4dc9-a268-599f19dbc801",
   "metadata": {},
   "outputs": [],
   "source": []
  },
  {
   "cell_type": "markdown",
   "id": "89667a13-00e3-4c04-868b-5ad38e959dac",
   "metadata": {},
   "source": [
    "Create column names (protein names) and indices (bin names) for the final dataframes."
   ]
  },
  {
   "cell_type": "code",
   "execution_count": 5,
   "id": "d33b5bd3-034e-4497-b51b-f452a7276002",
   "metadata": {
    "jp-MarkdownHeadingCollapsed": true,
    "tags": []
   },
   "outputs": [],
   "source": [
    "# Protein accession numbers are identical in both BLAST outputs\n",
    "protein_col_names = marine_gs_illumina_blast[\"protein_id\"].unique()\n",
    "\n",
    "\n",
    "def get_bins(sample_path):\n",
    "    \"\"\"Extract bin names without extension.\"\"\"\n",
    "    index = []\n",
    "    for file in os.listdir(sample_path):\n",
    "        index.append(Path(file).stem)\n",
    "    return index\n",
    "\n",
    "\n",
    "marine_gs_illumina_bins = get_bins(\n",
    "    \"genes/results/2022-05-19/prodigal/marine_gs_illumina\"\n",
    ")\n",
    "marine_gs_nanopore_bins = get_bins(\n",
    "    \"genes/results/2022-05-19/prodigal/marine_gs_nanopore\"\n",
    ")"
   ]
  },
  {
   "cell_type": "code",
   "execution_count": 6,
   "id": "7cf3d1a4-6f2f-4f04-97ed-530cfd8272d2",
   "metadata": {},
   "outputs": [],
   "source": [
    "def contig_hits(sample_name, blast_output, bin_path, bins):\n",
    "    \"\"\"\n",
    "    Save a dataframe with the number of sequence hits of each protein in each metagenomic bin.\n",
    "    \"\"\"\n",
    "\n",
    "    # Final dataframe skeleton\n",
    "    final_df = pd.DataFrame(0, index=bins, columns=protein_col_names)\n",
    "\n",
    "    for bin_file in Path(bin_path + sample_name).iterdir():\n",
    "\n",
    "        # Save the current bin's sequence ids to a dataframe\n",
    "        bin_record_ids = []\n",
    "        try:\n",
    "            for record in SeqIO.parse(bin_file, \"fasta\"):\n",
    "                bin_record_ids.append(record.id)\n",
    "            bin_record_ids_df = pd.DataFrame(bin_record_ids, columns=[\"contig\"])\n",
    "        except UnicodeDecodeError:\n",
    "            continue\n",
    "\n",
    "        # Merge the dataframe of sequence ids of the current bin and blast output\n",
    "        merged = bin_record_ids_df.merge(blast_output, on=\"contig\")\n",
    "\n",
    "        # Group the merge dataframe to compute the total number of contig hits for the protein in the bin\n",
    "        grouped = merged.groupby(\"protein_id\").count().reset_index()\n",
    "\n",
    "        # The name of the current bin\n",
    "        current_bin = Path(bin_file).stem\n",
    "\n",
    "        # Loop through the grouped dataframe and extract protein id and number of contig hits\n",
    "        # Then add the number to the corresponding row/column of the dataset\n",
    "        for index, row in grouped.iterrows():\n",
    "            final_df.loc[current_bin, row[\"protein_id\"]] = row[\"contig\"]\n",
    "\n",
    "    return final_df"
   ]
  },
  {
   "cell_type": "code",
   "execution_count": 7,
   "id": "dae44ae6-ce5f-4346-ba16-c711fc3395e0",
   "metadata": {},
   "outputs": [],
   "source": [
    "# Coount protein contig hits\n",
    "marine_gs_illumina_contig_hits = contig_hits(\n",
    "    sample_name=\"marine_gs_illumina\",\n",
    "    blast_output=marine_gs_illumina_blast,\n",
    "    bin_path=\"genes/results/2022-05-19/prodigal/\",\n",
    "    bins=marine_gs_illumina_bins,\n",
    ")\n",
    "\n",
    "marine_gs_nanopore_contig_hits = contig_hits(\n",
    "    sample_name=\"marine_gs_nanopore\",\n",
    "    blast_output=marine_gs_nanopore_blast,\n",
    "    bin_path=\"genes/results/2022-05-19/prodigal/\",\n",
    "    bins=marine_gs_nanopore_bins,\n",
    ")\n",
    "\n",
    "# Remove rows with all 0s\n",
    "marine_gs_illumina_contig_hits = marine_gs_illumina_contig_hits.loc[(marine_gs_illumina_contig_hits!=0).any(axis=1)]\n",
    "marine_gs_nanopore_contig_hits = marine_gs_nanopore_contig_hits.loc[(marine_gs_nanopore_contig_hits!=0).any(axis=1)]\n",
    "\n",
    "# Save to csv\n",
    "marine_gs_illumina_contig_hits.to_csv(\"genes/results/2022-05-20/blast/marine_gs_illumina_contig_hits.csv\")\n",
    "marine_gs_nanopore_contig_hits.to_csv(\"genes/results/2022-05-20/blast/marine_gs_nanopore_contig_hits.csv\")"
   ]
  }
 ],
 "metadata": {
  "kernelspec": {
   "display_name": "Python 3 (ipykernel)",
   "language": "python",
   "name": "python3"
  },
  "language_info": {
   "codemirror_mode": {
    "name": "ipython",
    "version": 3
   },
   "file_extension": ".py",
   "mimetype": "text/x-python",
   "name": "python",
   "nbconvert_exporter": "python",
   "pygments_lexer": "ipython3",
   "version": "3.10.4"
  }
 },
 "nbformat": 4,
 "nbformat_minor": 5
}
