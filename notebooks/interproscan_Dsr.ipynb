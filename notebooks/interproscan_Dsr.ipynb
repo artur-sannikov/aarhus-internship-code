{
 "cells": [
  {
   "cell_type": "markdown",
   "id": "80d50718-f18e-46ec-b251-2376139be989",
   "metadata": {
    "tags": []
   },
   "source": [
    "# Dsr Proteins in InterProScan Datasets\n",
    "\n",
    "The purpose of this notebook is to search for Dsr proteins in the InterProscan datasets. Dissimilatory sulfate reduction (DSR) is an anaerobic process common in marine sediments which uses sulfate as a terminal electron acceptor and produces hydrogen sulfide, the main substrate of cable bacteria. Two proteins are essential for this process: [sulphite reductase, dissimilatory-type alpha subunit](http://www.ebi.ac.uk/interpro/entry/InterPro/IPR011806/) (DsrA) and [sulphite reductase, dissimilatory-type beta subunit](http://www.ebi.ac.uk/interpro/entry/InterPro/IPR011808/) (DsrB). Thus, it is interesting to understand which organisms are capable of this process as they are essential for cable bacteria growth.\n",
    "\n",
    "Cable bacteria belong to the *Desulfobulbaceae* family which is known for this pathway but it was not confirmed that cable bacteria perform this type of metabolism, even though their genome contains the essential genes required for DSR.\n",
    "\n",
    "The search was performed only in the top 50 most abundant genomic bins in the Kalø Vig and Løgten samples. Note that the bin maxbin_bin.55_sub was removed from the final genomic bins as it did not pass the threshold of contamination (its contamination was 11.46%). Therefore, the total number of bins in the Kalø Vig sample accounts for 49 bins."
   ]
  },
  {
   "cell_type": "code",
   "execution_count": 1,
   "id": "f6ce7f31-8cf0-4648-b7f6-2d96fc1ac6fc",
   "metadata": {},
   "outputs": [],
   "source": [
    "import os\n",
    "\n",
    "import pandas as pd"
   ]
  },
  {
   "cell_type": "markdown",
   "id": "087589ec-1d22-48d6-9245-967556b1727b",
   "metadata": {},
   "source": [
    "## Kalø Vig Sample"
   ]
  },
  {
   "cell_type": "code",
   "execution_count": 2,
   "id": "cebb405e-e01e-4bb4-b01f-81d1e87b898b",
   "metadata": {},
   "outputs": [],
   "source": [
    "def read_parser_error(tsv_file):\n",
    "    \"\"\"\n",
    "    If a TSV file cannot be read due to a ParserError, read it line by line,\n",
    "    split each line by a tab, and convert this list of lists into a DataFrame.\n",
    "    \"\"\"\n",
    "    with open(tsv_file) as tsv:\n",
    "        lines = tsv.readlines()\n",
    "\n",
    "    # List to save correctly split lines\n",
    "    tsv_lines = []\n",
    "\n",
    "    for line in lines:\n",
    "        tsv_lines.append(line.split(\"\\t\"))\n",
    "\n",
    "    return pd.DataFrame(tsv_lines)"
   ]
  },
  {
   "cell_type": "code",
   "execution_count": 3,
   "id": "1c9e262a-a276-4095-a85f-374cf1f70b16",
   "metadata": {},
   "outputs": [],
   "source": [
    "def find_dsr(path):\n",
    "    \"\"\"\n",
    "    Return bin names which contain either DsrA or DsrB proteins.\n",
    "\n",
    "    Parameters\n",
    "    ----------\n",
    "    path : str\n",
    "        Path to genomic bins.\n",
    "    \"\"\"\n",
    "    for file in os.listdir(path):\n",
    "        if file.endswith(\".tsv\"):\n",
    "            open_file = read_parser_error(os.path.join(path, file))\n",
    "        if (open_file.iloc[:, 11] == \"IPR011806\").any() or (  # DsrA\n",
    "            open_file.iloc[:, 11] == \"IPR011808\"  # DsrB\n",
    "        ).any():  # 11th column is \"InterPro annotations - accession\"\n",
    "            print(file.rstrip(\".faa.tsv\"))"
   ]
  },
  {
   "cell_type": "code",
   "execution_count": 4,
   "id": "77ba61c4-23be-42bb-8079-e96a78ceea6d",
   "metadata": {},
   "outputs": [
    {
     "name": "stdout",
     "output_type": "stream",
     "text": [
      "Genomic bins of the Kalø Vig sample containing DsrA or DsrB:\n",
      "metadecoder_kaloevig.metadecoder.700\n",
      "maxbin_bin.657\n",
      "maxbin_bin.7_sub\n",
      "maxbin_bin.654\n",
      "maxbin_bin.9\n",
      "metabat_bin.603\n",
      "metabat_bin.12\n",
      "metabat_bin.479\n",
      "metabat_bin.189\n",
      "maxbin_bin.525\n",
      "metabat_bin.596\n",
      "metabat_bin.18\n",
      "maxbin_bin.40\n",
      "maxbin_bin.10\n"
     ]
    }
   ],
   "source": [
    "print(\"Genomic bins of the Kalø Vig sample containing DsrA or DsrB:\")\n",
    "find_dsr(\"interproscan_bins/kaloevig/\")"
   ]
  },
  {
   "cell_type": "markdown",
   "id": "2d596b26-98a6-4c1d-a46f-ff661ca47044",
   "metadata": {},
   "source": [
    "Cable bacteria are:\n",
    "* `metabat_bin.603` - genus *Electronema*\n",
    "* `metabat_bin.479` - genus *Electrothrix*\n",
    "* `metabat_bin.189` - genus *Electronema*\n",
    "\n",
    "This list contains some of the bins that were shortlisted:\n",
    "* `metadecoder_kaloevig.metadecoder.700` - family *SZUA-229*, class Gammaproteobacteria\n",
    "* `maxbin_bin.657` - *Sedimenticola thiotaurini_A*\n",
    "* `maxbin_bin.654` - genus *Magnetovibrio*\n",
    "* `maxbin_bin.9` - genus *41T-STBD-0c-01*, family *Sedimenticolaceae*\n",
    "* `maxbin_bin.10` - genus *41T-STBD-0c-01*, family *Sedimenticolaceae*\n",
    "\n",
    "Other bacteria are:\n",
    "* `maxbin_bin.7` - genus *JABZFP01*, order Desulfobacterales\n",
    "* `metabat_bin.12` - genus *UBA9214*, order Thiohalobacterales\n",
    "* `maxbin_bin.525` - genus *SLDE01*, family *Thiohalomonadaceae*\n",
    "* `metabat_bin.596` - genus *Sulfuritalea*\n",
    "* `metabat_bin.18` - family *BMS3Bbin11*, order Arenicellales\n",
    "* `maxbin_bin.40` - family *Beggiatoaceae*"
   ]
  },
  {
   "cell_type": "markdown",
   "id": "711c26cd-fe6e-4305-9eb0-233f0efdc736",
   "metadata": {},
   "source": [
    "## Løgten Sample"
   ]
  },
  {
   "cell_type": "code",
   "execution_count": 5,
   "id": "83f11b30-1c72-4c05-b664-9ee3227563c5",
   "metadata": {},
   "outputs": [
    {
     "name": "stdout",
     "output_type": "stream",
     "text": [
      "Genomic bins of the Løgten sample containing DsrA or DsrB:\n",
      "metabat_bin.351\n",
      "metabat_bin.126\n",
      "metabat_bin.370\n",
      "maxbin_bin.56_sub\n",
      "metabat_bin.57\n",
      "metabat_bin.73\n",
      "maxbin_bin.85_sub\n",
      "metabat_bin.312_sub\n",
      "metabat_bin.126\n",
      "maxbin_bin.450\n"
     ]
    }
   ],
   "source": [
    "print(\"Genomic bins of the Løgten sample containing DsrA or DsrB:\")\n",
    "find_dsr(\"interproscan_bins/loegten/\")"
   ]
  },
  {
   "cell_type": "markdown",
   "id": "75f98dc1-224f-4a90-87d8-43aac5b6b176",
   "metadata": {},
   "source": [
    "Cable bacteria are:\n",
    "* `maxbin_bin.450` - genus *Electrothrix*\n",
    "\n",
    "Shortlisted bacteria are:\n",
    "* `metabat_bin.351` - genus *41T-STBD-0c-01*, family *Sedimenticolaceae*\n",
    "* `metabat_bin.57` - family *Sedimenticolaceae*\n",
    "* `maxbin_bin.85`_sub - genus *IGN2*, family *Ignavibacteriaceae*\n",
    "* `metabat_bin.312_sub` - family *Mor1*, phylum Acidobacteriota\n",
    "\n",
    "Other bacteria are:\n",
    "* `metabat_bin.126` - genus *SZUA-116*, family *SZUA-229*, class Gammaproteobacteria\n",
    "* `metabat_bin.370` - family *UBA6429*, order Thiohalomonadales\n",
    "* `maxbin_bin.56_sub` - family *J044*, class Gammaproteobacteria\n",
    "* `metabat_bin.73` - genus *JABZFP01*, order Desulfobacterales\n",
    "* `metabat_bin.126` - genus *SZUA-116*, family *SZUA-229*, class Gammaproteobacteria"
   ]
  }
 ],
 "metadata": {
  "kernelspec": {
   "display_name": "Python 3 (ipykernel)",
   "language": "python",
   "name": "python3"
  },
  "language_info": {
   "codemirror_mode": {
    "name": "ipython",
    "version": 3
   },
   "file_extension": ".py",
   "mimetype": "text/x-python",
   "name": "python",
   "nbconvert_exporter": "python",
   "pygments_lexer": "ipython3",
   "version": "3.10.4"
  }
 },
 "nbformat": 4,
 "nbformat_minor": 5
}
