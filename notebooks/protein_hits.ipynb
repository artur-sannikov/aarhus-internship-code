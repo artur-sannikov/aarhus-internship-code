{
 "cells": [
  {
   "cell_type": "markdown",
   "id": "f3aeb55d-b2a3-4b88-bf78-8d93fc4188fa",
   "metadata": {},
   "source": [
    "# Protein Hits Count in Kalø Vig and Løgten\n",
    "\n",
    "The purpose of this notebook is to generate the tables with the number of protein hits of each protein in each bin. I am working with the translations of the original final high-quality bins (251 from  Kalø Vig and 185 from Løgten)"
   ]
  },
  {
   "cell_type": "code",
   "execution_count": 1,
   "id": "a6a61938-e20d-4627-bb91-021b4064c012",
   "metadata": {},
   "outputs": [],
   "source": [
    "import os\n",
    "from pathlib import Path\n",
    "\n",
    "import numpy as np\n",
    "import pandas as pd\n",
    "from Bio import SeqIO"
   ]
  },
  {
   "cell_type": "markdown",
   "id": "7864145b-0163-42e2-b50c-8214ddb2fcb0",
   "metadata": {},
   "source": [
    "In the BLAST output I get some **overlapping matches** (for example, in the `kaloevig_omc_blast.tsv` file protein ABL63052.1 matches the contig k127_22601620_5 two times. This may be due to the fact  that these matches overlap, so **the query is searched against the database and finds a hit but then it continues the search and finds another hit in the same contig** (i.e., protein sequence) and also reports it. So, continuing, with the previous example, there was a first hit in the contig k127_22601620_5 from point 55 up to 232 but then the next hit came up from point 123 to 263 (with a lower e-value). Thus, I have to remove these duplicates and keep only the one with the lowest e-value."
   ]
  },
  {
   "cell_type": "code",
   "execution_count": 2,
   "id": "bc771160-f678-4306-811e-2326747b6c80",
   "metadata": {},
   "outputs": [],
   "source": [
    "# Open BLAST output tables\n",
    "kaloevig_blast = pd.read_table(\"kaloevig/kaloevig_omc_blast.tsv\", header=None)\n",
    "loegten_blast = pd.read_table(\"loegten/loegten_omc_blast.tsv\", header=None)\n",
    "\n",
    "# Drop the duplicated protein sequence-contig pairs with the highest e-value\n",
    "kaloevig_blast = kaloevig_blast.sort_values(10).drop_duplicates(subset=[0, 1])\n",
    "loegten_blast = loegten_blast.sort_values(10).drop_duplicates(subset=[0, 1])\n",
    "\n",
    "# Select the first two columns\n",
    "kaloevig_blast = kaloevig_blast.iloc[:, :2]\n",
    "loegten_blast = loegten_blast.iloc[:, :2]\n",
    "\n",
    "# Add column names\n",
    "blast_col_names = [\"protein_id\", \"contig\"]\n",
    "kaloevig_blast.columns = blast_col_names\n",
    "loegten_blast.columns = blast_col_names"
   ]
  },
  {
   "cell_type": "markdown",
   "id": "89667a13-00e3-4c04-868b-5ad38e959dac",
   "metadata": {},
   "source": [
    "Create column names (protein names) and indices (bin names) for the final dataframes."
   ]
  },
  {
   "cell_type": "code",
   "execution_count": 3,
   "id": "feb96dd6-0995-4ede-9f27-b82bd098c786",
   "metadata": {},
   "outputs": [],
   "source": [
    "# Protein accession numbers are identical in both BLAST outputs\n",
    "protein_col_names = kaloevig_blast[\"protein_id\"].unique()\n",
    "\n",
    "\n",
    "def get_bins(sample_name):\n",
    "    \"\"\"\n",
    "    Extract bin names without extension.\n",
    "    \"\"\"\n",
    "    index = []\n",
    "    for file in os.listdir(f\"../../../results/2022-04-26/prodigal/{sample_name}\"):\n",
    "        index.append(Path(file).stem)\n",
    "    return index\n",
    "\n",
    "\n",
    "kaloevig_bins = get_bins(\"kaloevig\")\n",
    "loegten_bins = get_bins(\"loegten\")"
   ]
  },
  {
   "cell_type": "code",
   "execution_count": 4,
   "id": "83b2dd7e-60b7-4438-991e-276f81a369ec",
   "metadata": {},
   "outputs": [],
   "source": [
    "def contig_hits(sample_name, blast_output, bins):\n",
    "    \"\"\"\n",
    "    Save a dataframe with the number of sequence hits of each protein in each genomic bin.\n",
    "    \"\"\"\n",
    "    # Bins path\n",
    "    bin_path = \"../../../results/2022-04-26/prodigal/\"\n",
    "\n",
    "    # Final dataframe skeleton\n",
    "    final_df = pd.DataFrame(0, index=bins, columns=protein_col_names)\n",
    "\n",
    "    for bin_file in Path(bin_path + sample_name).iterdir():\n",
    "        # print(bin_file)\n",
    "\n",
    "        # Save the current bin's sequence ids to a dataframe\n",
    "        bin_record_ids = []\n",
    "\n",
    "        for record in SeqIO.parse(bin_file, \"fasta\"):\n",
    "            bin_record_ids.append(record.id)\n",
    "        bin_record_ids_df = pd.DataFrame(bin_record_ids, columns=[\"contig\"])\n",
    "\n",
    "        # Merge the dataframe of sequence ids of the current bin and blast output\n",
    "        merged = bin_record_ids_df.merge(blast_output, on=\"contig\")\n",
    "\n",
    "        # Group the merge dataframe to compute the total number of contig hits for the proteion in the bin\n",
    "        grouped = merged.groupby(\"protein_id\").count().reset_index()\n",
    "\n",
    "        # The name of the current bin\n",
    "        current_bin = Path(bin_file).stem\n",
    "\n",
    "        # Loop through the grouped dataframe and extract protein id and number of contig hits\n",
    "        # Then add the number to the corresponding row/column of the dataset\n",
    "        for index, row in grouped.iterrows():\n",
    "            final_df.loc[current_bin, row[\"protein_id\"]] = row[\"contig\"]\n",
    "\n",
    "    return final_df"
   ]
  },
  {
   "cell_type": "code",
   "execution_count": 5,
   "id": "6f6100b3-cbef-4f01-936a-15f0180555f9",
   "metadata": {},
   "outputs": [],
   "source": [
    "kaloevig_contig_hits = contig_hits(\n",
    "    sample_name=\"kaloevig\", blast_output=kaloevig_blast, bins=kaloevig_bins\n",
    ")\n",
    "\n",
    "loegten_contig_hits = contig_hits(\n",
    "    sample_name=\"loegten\", blast_output=loegten_blast, bins=loegten_bins\n",
    ")"
   ]
  },
  {
   "cell_type": "code",
   "execution_count": 6,
   "id": "1f7cba31-47a6-4fa5-9519-71a597f3bacb",
   "metadata": {},
   "outputs": [],
   "source": [
    "# Save to csv files\n",
    "kaloevig_contig_hits.to_csv(\"kaloevig_contig_hits.csv\", index=False)\n",
    "loegten_contig_hits.to_csv(\"loegten_contig_hits.csv\", index=False)"
   ]
  }
 ],
 "metadata": {
  "kernelspec": {
   "display_name": "Python 3 (ipykernel)",
   "language": "python",
   "name": "python3"
  },
  "language_info": {
   "codemirror_mode": {
    "name": "ipython",
    "version": 3
   },
   "file_extension": ".py",
   "mimetype": "text/x-python",
   "name": "python",
   "nbconvert_exporter": "python",
   "pygments_lexer": "ipython3",
   "version": "3.10.4"
  }
 },
 "nbformat": 4,
 "nbformat_minor": 5
}
