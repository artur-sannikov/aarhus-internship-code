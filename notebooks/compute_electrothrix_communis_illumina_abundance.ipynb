{
 "cells": [
  {
   "cell_type": "markdown",
   "id": "fd772e9e-3d77-48e1-bdfe-62fae025714b",
   "metadata": {},
   "source": [
    "# Compute Taxa Abundance in the *Candidatus* Electrothrix communis RB Sample\n",
    "\n",
    "The purpose of this notebook is to compute the taxa abundance in the same way it was done for the Kalø Vig and Løgten samples (see notebook `compute_abundance.ipynb`) and merge this data with contamination, completeness and taxonomic data. The \"marine_gs\" abbreviation stands for \"Marine Golden Standard\" which is an internal name for the *Candidatus* Electrothrix communis RB species."
   ]
  },
  {
   "cell_type": "code",
   "execution_count": 1,
   "id": "8d5cc3c5-9b41-4050-9381-04cf0999dfea",
   "metadata": {},
   "outputs": [],
   "source": [
    "import os\n",
    "import re\n",
    "from pathlib import Path\n",
    "\n",
    "import pandas as pd"
   ]
  },
  {
   "cell_type": "code",
   "execution_count": 2,
   "id": "279d29cb-094c-4a71-ad31-1b0ed8dc0042",
   "metadata": {},
   "outputs": [],
   "source": [
    "marine_gs_illumina_contig_depth = pd.read_table(\n",
    "    \"../../../mapping/results/2022-05-19/marine_gs_illumina_bins_contig_depths/marine_gs_illumina_bam_contig_depths.tsv\",\n",
    "    usecols=[\"contigName\", \"totalAvgDepth\"],\n",
    ")"
   ]
  },
  {
   "cell_type": "code",
   "execution_count": 3,
   "id": "de527d97-66db-4a8b-8697-49363a59f8f2",
   "metadata": {},
   "outputs": [],
   "source": [
    "# Remove S1C from contig names to match them with bin contig names\n",
    "marine_gs_illumina_contig_depth[\"contigName\"] = marine_gs_illumina_contig_depth[\n",
    "    \"contigName\"\n",
    "].str[3:]"
   ]
  },
  {
   "cell_type": "code",
   "execution_count": 4,
   "id": "6157d890-2976-4512-a124-8ab39c5a4fe2",
   "metadata": {},
   "outputs": [],
   "source": [
    "def compute_depth(contigs_path, depth_file):\n",
    "    \"\"\"\n",
    "    Take bin contigs from a path, merge them with a depth file,\n",
    "    and return a dataframe with bin ids and their average depths (i.e., abundances).\n",
    "\n",
    "    Parameters\n",
    "    ----------\n",
    "    contig_path : str\n",
    "        Directory with tsv files for each bin that contain contig ids of that bin.\n",
    "    depth_file : pd.DataFrame\n",
    "        DataFrame containing contig names and their average total depth.\n",
    "\n",
    "    Returns\n",
    "    -------\n",
    "    pd.DataFrame\n",
    "        Dataframe with bin ids and their relative depths (i.e., abundances).\n",
    "    \"\"\"\n",
    "    # Pattern to extract bins names from filenames\n",
    "    pattern = re.compile(\".+?(?=.fa_contig_names)\")\n",
    "\n",
    "    # Lists to store values for dataframe\n",
    "    bin_ids = []\n",
    "    avg_depth = []\n",
    "\n",
    "    for tsv in os.listdir(contigs_path):\n",
    "        contig_names = pd.read_table(contigs_path + tsv, names=[\"contigName\"])\n",
    "\n",
    "        # Merge contig names with Average Depth file\n",
    "        merged = contig_names.merge(depth_file)\n",
    "\n",
    "        # Append values to lists that will be used to populate the dataframe\n",
    "        bin_ids.append(re.match(pattern, tsv).group(0))\n",
    "        avg_depth.append(merged[\"totalAvgDepth\"].mean())\n",
    "\n",
    "    # DataFrame to save bin names and average depth (i.e., abundance of the bin)\n",
    "    df = pd.DataFrame({\"Bin Id\": bin_ids, \"AvgDepth\": avg_depth})\n",
    "    return df"
   ]
  },
  {
   "cell_type": "code",
   "execution_count": 5,
   "id": "306631c1-a3bd-4e1a-934d-79c00a97b8db",
   "metadata": {},
   "outputs": [],
   "source": [
    "marine_gs_illumina_abund = compute_depth(\n",
    "    \"marine_gs_illumina_contig_names/\", marine_gs_illumina_contig_depth\n",
    ")"
   ]
  },
  {
   "cell_type": "markdown",
   "id": "9fe291f1-fd12-4327-a329-3131077bc6b9",
   "metadata": {},
   "source": [
    "Now merge these tables with big quality tables."
   ]
  },
  {
   "cell_type": "code",
   "execution_count": 6,
   "id": "56b68e28-e626-4a98-89a3-e13a6154487a",
   "metadata": {},
   "outputs": [],
   "source": [
    "# Open taxonomical and quality table\n",
    "marine_gs_illumina_taxa_quality = pd.read_csv(\n",
    "    \"../../../taxonomy/results/2022-05-19/marine_gs_illumina_taxa_quality.csv\"\n",
    ")\n",
    "\n",
    "# Merge\n",
    "marine_gs_illumina_merged = marine_gs_illumina_taxa_quality.merge(\n",
    "    marine_gs_illumina_abund\n",
    ")\n",
    "\n",
    "# Save to csv file\n",
    "marine_gs_illumina_merged.to_csv(\n",
    "    \"../../../taxonomy/results/2022-05-19/marine_gs_illumina_taxa_quality_abund.csv\", index=False\n",
    ")"
   ]
  }
 ],
 "metadata": {
  "kernelspec": {
   "display_name": "Python 3 (ipykernel)",
   "language": "python",
   "name": "python3"
  },
  "language_info": {
   "codemirror_mode": {
    "name": "ipython",
    "version": 3
   },
   "file_extension": ".py",
   "mimetype": "text/x-python",
   "name": "python",
   "nbconvert_exporter": "python",
   "pygments_lexer": "ipython3",
   "version": "3.10.4"
  }
 },
 "nbformat": 4,
 "nbformat_minor": 5
}
