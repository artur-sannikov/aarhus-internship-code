{
 "cells": [
  {
   "cell_type": "markdown",
   "id": "e9661a3e-b555-46fa-9ab0-78a18033872c",
   "metadata": {},
   "source": [
    "# Merge FeGenie Output and Taxa/Quality Tables\n",
    "\n",
    "This notebook will merge FeGenie transposed heatmap table and big quality tables of the Kalø Vig, Løgten, and *Candidatus Electrothrix communis RB* samples. The \"marine_gs\" abbreviation stands for \"Marine Golden Standard\" which is an internal name for the *Candidatus Electrothrix communis RB* species."
   ]
  },
  {
   "cell_type": "code",
   "execution_count": 1,
   "id": "cf607b7a-c2ee-440f-bbf5-37ede3df2dee",
   "metadata": {},
   "outputs": [],
   "source": [
    "import pandas as pd"
   ]
  },
  {
   "cell_type": "code",
   "execution_count": 2,
   "id": "99a611ef-9d08-4a0c-8d2d-1e5361cdb816",
   "metadata": {},
   "outputs": [],
   "source": [
    "# Columns of Kalø Vig and Løgten to use\n",
    "k_l_cols = [\"Bin Id\", \"classification\", \"Completeness\", \"Contamination\", \"AvgDepth\"]\n",
    "\n",
    "# Open taxa/quality tables\n",
    "kaloevig_taxa_quality = pd.read_csv(\n",
    "    \"binning/results/2022-04-08/kaloevig_taxa_quality_abund_table_full.csv\", usecols=k_l_cols\n",
    ")\n",
    "loegten_taxa_quality = pd.read_csv(\n",
    "    \"binning/results/2022-04-08/loegten_taxa_quality_abund_table_full.csv\", usecols=k_l_cols\n",
    ")\n",
    "marine_gs_illumina_quality = pd.read_csv(\n",
    "    \"taxonomy/results/2022-05-19/marine_gs_illumina_taxa_quality_abund.csv\"\n",
    ")\n",
    "\n",
    "# FeGenie columns\n",
    "fg_cols = [\"X\", \"iron_oxidation\", \"iron_reduction\"]\n",
    "\n",
    "# Open FeGenie tables\n",
    "kaloevig_fegenie = pd.read_csv(\n",
    "    \"genes/results/2022-05-04/fegenie/kaloevig/FeGenie-heatmap-data.Kaloevig.T.csv\",\n",
    "    usecols=fg_cols,\n",
    ")\n",
    "loegten_fegenie = pd.read_csv(\n",
    "    \"genes/results/2022-05-04/fegenie/loegten/FeGenie-heatmap-data.Loegten.T.csv\",\n",
    "    usecols=fg_cols,\n",
    ")\n",
    "marine_gs_illumina_fegenie = pd.read_csv(\n",
    "    \"genes/results/2022-05-19/fegenie/marine_gs_illumina_proteins/FeGenie-heatmap-data.illumina.proteins.T.csv\",\n",
    "    usecols=fg_cols,\n",
    ")"
   ]
  },
  {
   "cell_type": "code",
   "execution_count": 3,
   "id": "8bd6a680-d366-48ed-8609-30db6f229cfd",
   "metadata": {},
   "outputs": [],
   "source": [
    "# Rename X to Bin Id in FeGenie for merging\n",
    "for dataset in [kaloevig_fegenie, loegten_fegenie, marine_gs_illumina_fegenie]:\n",
    "    dataset.rename(columns={\"X\": \"Bin Id\"}, inplace=True)\n",
    "    \n",
    "# Remove .faa extensions from FeGenie bin names\n",
    "kaloevig_fegenie[\"Bin Id\"] = kaloevig_fegenie[\"Bin Id\"].str[:-4]\n",
    "loegten_fegenie[\"Bin Id\"] = loegten_fegenie[\"Bin Id\"].str[:-4]\n",
    "marine_gs_illumina_fegenie[\"Bin Id\"] = marine_gs_illumina_fegenie[\"Bin Id\"].str[:-4]"
   ]
  },
  {
   "cell_type": "code",
   "execution_count": 4,
   "id": "5883e7f2-035a-4dae-b2a6-37e7b9a21ef2",
   "metadata": {},
   "outputs": [],
   "source": [
    "# Merge datasets\n",
    "kaloevig_merged = kaloevig_taxa_quality.merge(kaloevig_fegenie, on=[\"Bin Id\"])\n",
    "loegten_merged = loegten_taxa_quality.merge(loegten_fegenie, on=[\"Bin Id\"])\n",
    "marine_gs_illumina_merged = marine_gs_illumina_quality.merge(marine_gs_illumina_fegenie, on=[\"Bin Id\"])"
   ]
  },
  {
   "cell_type": "code",
   "execution_count": 5,
   "id": "b1f4879e-8cde-48f5-a8bc-18e0839afe9f",
   "metadata": {},
   "outputs": [],
   "source": [
    "# Save to csv files\n",
    "kaloevig_merged.to_csv(\"genes/results/2022-05-19/kaloevig_quality_taxa_fegenie.csv\", index=None)\n",
    "loegten_merged.to_csv(\"genes/results/2022-05-19/loegten_quality_taxa_fegenie.csv\", index=None)\n",
    "marine_gs_illumina_merged.to_csv(\"genes/results/2022-05-19/marine_gs_illumina_quality_taxa_fegenie.csv\", index=None)"
   ]
  }
 ],
 "metadata": {
  "kernelspec": {
   "display_name": "Python 3 (ipykernel)",
   "language": "python",
   "name": "python3"
  },
  "language_info": {
   "codemirror_mode": {
    "name": "ipython",
    "version": 3
   },
   "file_extension": ".py",
   "mimetype": "text/x-python",
   "name": "python",
   "nbconvert_exporter": "python",
   "pygments_lexer": "ipython3",
   "version": "3.10.4"
  }
 },
 "nbformat": 4,
 "nbformat_minor": 5
}
