{
 "cells": [
  {
   "cell_type": "markdown",
   "id": "da9a6e50-5fe3-4303-89e0-1615533bed4a",
   "metadata": {},
   "source": [
    "# Selecting the Best Bins\n",
    "\n",
    "As said in the `statistics` notebook, the best approach would be to select medium-quality bins (completeness ≥50%, contamination <10%) as described in [this paper](https://www.ncbi.nlm.nih.gov/pmc/articles/PMC6436528/) (*Minimum information about a single amplified genome (MISAG) and a metagenome-assembled genome (MIMAG) of bacteria and archaea*) from exclusively MetaDecoder, non-MetaDecoder, and bins that have no difference in metrics (all of them are 0s) and combine them with the bins that have differences illustrated in this notebook. This approach will exploit the strengths of both algorithms.\n",
    "\n",
    "Since FastANI worked only on the bins that passed a threshold of N50 > 10 Kbp and also excluded any bins with ANI < 80% (actually, some of them were included at around 79.5% but then were excluded anyway because there were some duplicates with a higher ANI), there can be some duplicates between the bins that will be filtered excluding the bins that FastANI reported as being identical between the two algorithms (including the filtering that was done in the `statistics` notebook excluding bin pairs with low ANI, and duplicates).\n",
    "\n",
    "This process generated two datasets: `kaloevig_query.csv` with 148 bins and `loegten_query.csv` with 120 bins. We will use these two datasets to get the bins that are exclusive to either the Kalø Vig or Løgten CheckM dataset.\n",
    "\n",
    "The bins that have different metrics between the two approaches will be worked on in the second step.\n",
    "\n",
    "## Filtering CheckM Datasets\n",
    "\n",
    "In the first step, we have to take the reference (for MetaDecoder bins) and query (for non-MetaDecoder bins) bins and use them as masks to get only the exclusively MetaDecoder or non-MetaDecoder bins from the CheckM Bacteria datasets."
   ]
  },
  {
   "cell_type": "code",
   "execution_count": 1,
   "id": "ca447da3-f46b-4f6a-b255-a1280f773c5c",
   "metadata": {},
   "outputs": [],
   "source": [
    "import pandas as pd\n",
    "\n",
    "# Display all columns\n",
    "pd.set_option(\"display.max_columns\", None)"
   ]
  },
  {
   "cell_type": "code",
   "execution_count": 2,
   "id": "520ff93b-475e-44a6-8f2b-6856a32bbfe4",
   "metadata": {},
   "outputs": [],
   "source": [
    "checkm_cols = [\"Bin Id\", \"Completeness\", \"Contamination\"]\n",
    "\n",
    "# Kalø Vig CheckM datasets\n",
    "kaloevig_md_checkm = pd.read_table(\n",
    "    \"results_bacteria_kaloevig_dastool_metadecoder.tsv\", usecols=checkm_cols\n",
    ")\n",
    "kaloevig_no_md_checkm = pd.read_table(\n",
    "    \"results_bacteria_kaloevig_dastool_no_metadecoder.tsv\", usecols=checkm_cols\n",
    ")\n",
    "\n",
    "# Løgten CheckM datasets\n",
    "loegten_md_checkm = pd.read_table(\n",
    "    \"results_bacteria_loegten_dastool_metadecoder.tsv\", usecols=checkm_cols\n",
    ")\n",
    "loegten_no_md_checkm = pd.read_table(\n",
    "    \"results_bacteria_loegten_dastool_no_metadecoder.tsv\", usecols=checkm_cols\n",
    ")"
   ]
  },
  {
   "cell_type": "code",
   "execution_count": 3,
   "id": "60ae3618-e186-475a-be21-7609b89aa9e8",
   "metadata": {},
   "outputs": [],
   "source": [
    "# Open datasets to filter on\n",
    "kaloevig_query = pd.read_csv(\"kaloevig_query.csv\")\n",
    "loegten_query = pd.read_csv(\"loegten_query.csv\")"
   ]
  },
  {
   "cell_type": "code",
   "execution_count": 4,
   "id": "a30af3f4-af9c-437d-ac97-16ba60785602",
   "metadata": {},
   "outputs": [
    {
     "data": {
      "text/plain": [
       "148"
      ]
     },
     "execution_count": 4,
     "metadata": {},
     "output_type": "execute_result"
    }
   ],
   "source": [
    "kaloevig_query.shape[0]"
   ]
  },
  {
   "cell_type": "code",
   "execution_count": 5,
   "id": "6fd97aae-0ba9-46af-985d-9adaca0ec34d",
   "metadata": {},
   "outputs": [
    {
     "data": {
      "text/plain": [
       "120"
      ]
     },
     "execution_count": 5,
     "metadata": {},
     "output_type": "execute_result"
    }
   ],
   "source": [
    "loegten_query.shape[0]"
   ]
  },
  {
   "cell_type": "code",
   "execution_count": 6,
   "id": "d175c121-f274-4ca0-8e72-b48d4cf8ccce",
   "metadata": {},
   "outputs": [],
   "source": [
    "# Filter bins exclusive to Kaloevig (filter out entries that are not in the query dataset)\n",
    "kaloevig_md_checkm_filt = kaloevig_md_checkm[\n",
    "    ~kaloevig_md_checkm[\"Bin Id\"].isin(kaloevig_query[\"reference\"])\n",
    "]\n",
    "\n",
    "kaloevig_no_md_checkm_filt = kaloevig_no_md_checkm[\n",
    "    ~kaloevig_no_md_checkm[\"Bin Id\"].isin(kaloevig_query[\"query\"])\n",
    "]\n",
    "\n",
    "# Filter bins exclusive to Loegten\n",
    "loegten_md_checkm_filt = loegten_md_checkm[\n",
    "    ~loegten_md_checkm[\"Bin Id\"].isin(loegten_query[\"reference\"])\n",
    "]\n",
    "\n",
    "loegten_no_md_checkm_filt = loegten_no_md_checkm[\n",
    "    ~loegten_no_md_checkm[\"Bin Id\"].isin(loegten_query[\"query\"])\n",
    "]"
   ]
  },
  {
   "cell_type": "markdown",
   "id": "6c25b1a6-c02d-4b1f-809c-d27c0e70f936",
   "metadata": {},
   "source": [
    "## Adding the Best Bins"
   ]
  },
  {
   "cell_type": "code",
   "execution_count": 7,
   "id": "9a62fce7-917a-4354-b8d3-c16c9a42ba88",
   "metadata": {},
   "outputs": [],
   "source": [
    "def filter_cont_compl(df):\n",
    "    \"\"\"\n",
    "    Filter a dataset by completeneses and contamination.\n",
    "    \"\"\"\n",
    "    return df.loc[(df[\"Completeness\"] >= 50) & (df[\"Contamination\"] < 10)]"
   ]
  },
  {
   "cell_type": "code",
   "execution_count": 8,
   "id": "04987dc2-ddc4-4b0b-9a5e-eb0d50a47a39",
   "metadata": {},
   "outputs": [],
   "source": [
    "def concat_df(df1, df2):\n",
    "    \"\"\"\n",
    "    Concatenate two dataframes.\n",
    "    \"\"\"\n",
    "    return pd.concat([df1, df2], ignore_index=True)"
   ]
  },
  {
   "cell_type": "code",
   "execution_count": 9,
   "id": "6d18fb11-a645-4c80-98d0-698ad3c58d7a",
   "metadata": {},
   "outputs": [],
   "source": [
    "# Concatenate two datasets vertically\n",
    "kaloevig_final = concat_df(\n",
    "    filter_cont_compl(kaloevig_md_checkm_filt),\n",
    "    filter_cont_compl(kaloevig_no_md_checkm_filt),\n",
    ")\n",
    "\n",
    "loegten_final = concat_df(\n",
    "    filter_cont_compl(loegten_md_checkm_filt),\n",
    "    filter_cont_compl(loegten_no_md_checkm_filt),\n",
    ")\n",
    "\n",
    "# Drop duplicate rows (each value in that rows is identical)\n",
    "kaloevig_final = kaloevig_final.drop_duplicates()\n",
    "loegten_final = loegten_final.drop_duplicates()"
   ]
  },
  {
   "cell_type": "markdown",
   "id": "d782ac95-3694-4acf-a1c6-5ad3ffa52877",
   "metadata": {},
   "source": [
    "However, dropping duplicates still results in the duplicates in the `Bin Id` column. There are just two duplicates, so it's easy to drop the worse bin."
   ]
  },
  {
   "cell_type": "code",
   "execution_count": 10,
   "id": "9563f88d-af09-4270-aabe-7f19fa2f9f4c",
   "metadata": {},
   "outputs": [
    {
     "data": {
      "text/html": [
       "<div>\n",
       "<style scoped>\n",
       "    .dataframe tbody tr th:only-of-type {\n",
       "        vertical-align: middle;\n",
       "    }\n",
       "\n",
       "    .dataframe tbody tr th {\n",
       "        vertical-align: top;\n",
       "    }\n",
       "\n",
       "    .dataframe thead th {\n",
       "        text-align: right;\n",
       "    }\n",
       "</style>\n",
       "<table border=\"1\" class=\"dataframe\">\n",
       "  <thead>\n",
       "    <tr style=\"text-align: right;\">\n",
       "      <th></th>\n",
       "      <th>Bin Id</th>\n",
       "      <th>Completeness</th>\n",
       "      <th>Contamination</th>\n",
       "    </tr>\n",
       "  </thead>\n",
       "  <tbody>\n",
       "    <tr>\n",
       "      <th>13</th>\n",
       "      <td>maxbin_bin.591_sub</td>\n",
       "      <td>62.07</td>\n",
       "      <td>8.62</td>\n",
       "    </tr>\n",
       "    <tr>\n",
       "      <th>115</th>\n",
       "      <td>maxbin_bin.591_sub</td>\n",
       "      <td>63.79</td>\n",
       "      <td>8.62</td>\n",
       "    </tr>\n",
       "  </tbody>\n",
       "</table>\n",
       "</div>"
      ],
      "text/plain": [
       "                 Bin Id  Completeness  Contamination\n",
       "13   maxbin_bin.591_sub         62.07           8.62\n",
       "115  maxbin_bin.591_sub         63.79           8.62"
      ]
     },
     "execution_count": 10,
     "metadata": {},
     "output_type": "execute_result"
    }
   ],
   "source": [
    "kaloevig_final[kaloevig_final[\"Bin Id\"].duplicated(keep=False)]"
   ]
  },
  {
   "cell_type": "code",
   "execution_count": 11,
   "id": "97384b2a-3a32-48e4-91b5-4fbe1aef58b2",
   "metadata": {},
   "outputs": [],
   "source": [
    "# Drop index 13\n",
    "kaloevig_final = kaloevig_final.drop(index=[13])"
   ]
  },
  {
   "cell_type": "markdown",
   "id": "2a99ada1-293a-4a1d-a2fa-a0437f6cf020",
   "metadata": {},
   "source": [
    "In the Løgten dataset, there are no duplicates."
   ]
  },
  {
   "cell_type": "code",
   "execution_count": 12,
   "id": "406caae7-3dbf-4ca3-b48c-57b749de95c7",
   "metadata": {},
   "outputs": [
    {
     "data": {
      "text/html": [
       "<div>\n",
       "<style scoped>\n",
       "    .dataframe tbody tr th:only-of-type {\n",
       "        vertical-align: middle;\n",
       "    }\n",
       "\n",
       "    .dataframe tbody tr th {\n",
       "        vertical-align: top;\n",
       "    }\n",
       "\n",
       "    .dataframe thead th {\n",
       "        text-align: right;\n",
       "    }\n",
       "</style>\n",
       "<table border=\"1\" class=\"dataframe\">\n",
       "  <thead>\n",
       "    <tr style=\"text-align: right;\">\n",
       "      <th></th>\n",
       "      <th>Bin Id</th>\n",
       "      <th>Completeness</th>\n",
       "      <th>Contamination</th>\n",
       "    </tr>\n",
       "  </thead>\n",
       "  <tbody>\n",
       "  </tbody>\n",
       "</table>\n",
       "</div>"
      ],
      "text/plain": [
       "Empty DataFrame\n",
       "Columns: [Bin Id, Completeness, Contamination]\n",
       "Index: []"
      ]
     },
     "execution_count": 12,
     "metadata": {},
     "output_type": "execute_result"
    }
   ],
   "source": [
    "loegten_final[loegten_final[\"Bin Id\"].duplicated(keep=False)]"
   ]
  },
  {
   "cell_type": "code",
   "execution_count": 13,
   "id": "b81f5d1b-5c8e-41f2-9dbf-36fd6f6ffe93",
   "metadata": {},
   "outputs": [
    {
     "data": {
      "text/html": [
       "<div>\n",
       "<style scoped>\n",
       "    .dataframe tbody tr th:only-of-type {\n",
       "        vertical-align: middle;\n",
       "    }\n",
       "\n",
       "    .dataframe tbody tr th {\n",
       "        vertical-align: top;\n",
       "    }\n",
       "\n",
       "    .dataframe thead th {\n",
       "        text-align: right;\n",
       "    }\n",
       "</style>\n",
       "<table border=\"1\" class=\"dataframe\">\n",
       "  <thead>\n",
       "    <tr style=\"text-align: right;\">\n",
       "      <th></th>\n",
       "      <th>Bin Id</th>\n",
       "      <th>Completeness</th>\n",
       "      <th>Contamination</th>\n",
       "    </tr>\n",
       "  </thead>\n",
       "  <tbody>\n",
       "    <tr>\n",
       "      <th>91</th>\n",
       "      <td>metadecoder_kaloevig.metadecoder.700</td>\n",
       "      <td>93.1</td>\n",
       "      <td>3.45</td>\n",
       "    </tr>\n",
       "  </tbody>\n",
       "</table>\n",
       "</div>"
      ],
      "text/plain": [
       "                                  Bin Id  Completeness  Contamination\n",
       "91  metadecoder_kaloevig.metadecoder.700          93.1           3.45"
      ]
     },
     "execution_count": 13,
     "metadata": {},
     "output_type": "execute_result"
    }
   ],
   "source": [
    "kaloevig_final[kaloevig_final[\"Bin Id\"] == \"metadecoder_kaloevig.metadecoder.700\"]"
   ]
  },
  {
   "cell_type": "code",
   "execution_count": 14,
   "id": "60a8219a-6aa8-4dfd-8aef-6f4d12390024",
   "metadata": {},
   "outputs": [
    {
     "data": {
      "text/html": [
       "<div>\n",
       "<style scoped>\n",
       "    .dataframe tbody tr th:only-of-type {\n",
       "        vertical-align: middle;\n",
       "    }\n",
       "\n",
       "    .dataframe tbody tr th {\n",
       "        vertical-align: top;\n",
       "    }\n",
       "\n",
       "    .dataframe thead th {\n",
       "        text-align: right;\n",
       "    }\n",
       "</style>\n",
       "<table border=\"1\" class=\"dataframe\">\n",
       "  <thead>\n",
       "    <tr style=\"text-align: right;\">\n",
       "      <th></th>\n",
       "      <th>Bin Id</th>\n",
       "    </tr>\n",
       "  </thead>\n",
       "  <tbody>\n",
       "    <tr>\n",
       "      <th>0</th>\n",
       "      <td>maxbin_bin.107</td>\n",
       "    </tr>\n",
       "    <tr>\n",
       "      <th>1</th>\n",
       "      <td>maxbin_bin.157_sub</td>\n",
       "    </tr>\n",
       "    <tr>\n",
       "      <th>2</th>\n",
       "      <td>maxbin_bin.167</td>\n",
       "    </tr>\n",
       "    <tr>\n",
       "      <th>3</th>\n",
       "      <td>maxbin_bin.254_sub</td>\n",
       "    </tr>\n",
       "    <tr>\n",
       "      <th>4</th>\n",
       "      <td>maxbin_bin.290_sub</td>\n",
       "    </tr>\n",
       "    <tr>\n",
       "      <th>...</th>\n",
       "      <td>...</td>\n",
       "    </tr>\n",
       "    <tr>\n",
       "      <th>158</th>\n",
       "      <td>metabat_bin.499</td>\n",
       "    </tr>\n",
       "    <tr>\n",
       "      <th>161</th>\n",
       "      <td>metabat_bin.509_sub</td>\n",
       "    </tr>\n",
       "    <tr>\n",
       "      <th>164</th>\n",
       "      <td>metabat_bin.556</td>\n",
       "    </tr>\n",
       "    <tr>\n",
       "      <th>165</th>\n",
       "      <td>metabat_bin.575_sub</td>\n",
       "    </tr>\n",
       "    <tr>\n",
       "      <th>166</th>\n",
       "      <td>metabat_bin.69</td>\n",
       "    </tr>\n",
       "  </tbody>\n",
       "</table>\n",
       "<p>120 rows × 1 columns</p>\n",
       "</div>"
      ],
      "text/plain": [
       "                  Bin Id\n",
       "0         maxbin_bin.107\n",
       "1     maxbin_bin.157_sub\n",
       "2         maxbin_bin.167\n",
       "3     maxbin_bin.254_sub\n",
       "4     maxbin_bin.290_sub\n",
       "..                   ...\n",
       "158      metabat_bin.499\n",
       "161  metabat_bin.509_sub\n",
       "164      metabat_bin.556\n",
       "165  metabat_bin.575_sub\n",
       "166       metabat_bin.69\n",
       "\n",
       "[120 rows x 1 columns]"
      ]
     },
     "execution_count": 14,
     "metadata": {},
     "output_type": "execute_result"
    }
   ],
   "source": [
    "cols_to_drop = [\"Completeness\", \"Contamination\"]\n",
    "\n",
    "# Remove unwanted indices and columns\n",
    "kaloevig_final = kaloevig_final.drop(columns=cols_to_drop)\n",
    "loegten_final = loegten_final.drop(columns=cols_to_drop)\n",
    "\n",
    "kaloevig_final"
   ]
  },
  {
   "cell_type": "code",
   "execution_count": 15,
   "id": "53b61e62-5312-4d44-bce6-e33ec1b266af",
   "metadata": {},
   "outputs": [
    {
     "data": {
      "text/html": [
       "<div>\n",
       "<style scoped>\n",
       "    .dataframe tbody tr th:only-of-type {\n",
       "        vertical-align: middle;\n",
       "    }\n",
       "\n",
       "    .dataframe tbody tr th {\n",
       "        vertical-align: top;\n",
       "    }\n",
       "\n",
       "    .dataframe thead th {\n",
       "        text-align: right;\n",
       "    }\n",
       "</style>\n",
       "<table border=\"1\" class=\"dataframe\">\n",
       "  <thead>\n",
       "    <tr style=\"text-align: right;\">\n",
       "      <th></th>\n",
       "      <th>Bin Id</th>\n",
       "    </tr>\n",
       "  </thead>\n",
       "  <tbody>\n",
       "    <tr>\n",
       "      <th>0</th>\n",
       "      <td>maxbin_bin.114</td>\n",
       "    </tr>\n",
       "    <tr>\n",
       "      <th>1</th>\n",
       "      <td>maxbin_bin.139_sub</td>\n",
       "    </tr>\n",
       "    <tr>\n",
       "      <th>2</th>\n",
       "      <td>maxbin_bin.25</td>\n",
       "    </tr>\n",
       "    <tr>\n",
       "      <th>3</th>\n",
       "      <td>maxbin_bin.382_sub</td>\n",
       "    </tr>\n",
       "    <tr>\n",
       "      <th>4</th>\n",
       "      <td>maxbin_bin.450</td>\n",
       "    </tr>\n",
       "    <tr>\n",
       "      <th>...</th>\n",
       "      <td>...</td>\n",
       "    </tr>\n",
       "    <tr>\n",
       "      <th>99</th>\n",
       "      <td>metabat_bin.338</td>\n",
       "    </tr>\n",
       "    <tr>\n",
       "      <th>100</th>\n",
       "      <td>metabat_bin.381</td>\n",
       "    </tr>\n",
       "    <tr>\n",
       "      <th>109</th>\n",
       "      <td>metabat_bin.47_sub</td>\n",
       "    </tr>\n",
       "    <tr>\n",
       "      <th>112</th>\n",
       "      <td>metabat_bin.78</td>\n",
       "    </tr>\n",
       "    <tr>\n",
       "      <th>115</th>\n",
       "      <td>vamb_S1C636</td>\n",
       "    </tr>\n",
       "  </tbody>\n",
       "</table>\n",
       "<p>84 rows × 1 columns</p>\n",
       "</div>"
      ],
      "text/plain": [
       "                 Bin Id\n",
       "0        maxbin_bin.114\n",
       "1    maxbin_bin.139_sub\n",
       "2         maxbin_bin.25\n",
       "3    maxbin_bin.382_sub\n",
       "4        maxbin_bin.450\n",
       "..                  ...\n",
       "99      metabat_bin.338\n",
       "100     metabat_bin.381\n",
       "109  metabat_bin.47_sub\n",
       "112      metabat_bin.78\n",
       "115         vamb_S1C636\n",
       "\n",
       "[84 rows x 1 columns]"
      ]
     },
     "execution_count": 15,
     "metadata": {},
     "output_type": "execute_result"
    }
   ],
   "source": [
    "loegten_final"
   ]
  },
  {
   "cell_type": "markdown",
   "id": "3ef5f1ca-4e25-4f96-bac3-b0f54d45c89a",
   "metadata": {},
   "source": [
    "Now we should add the bins that have no differences between the two approaches (every metric difference is equal to 0). I will use the bin names that are coming from the MetaDecoder dataset (column `assembly_MD`) because it also includes the MetaDecoder bins.\n",
    "\n",
    "For the other columns (that are different between the two datasets), select the ones with the least contamination, and if it is the same, choose the most complete bin."
   ]
  },
  {
   "cell_type": "code",
   "execution_count": 16,
   "id": "18de9fc5-6f77-4bec-85e9-7f4d86b2a7fd",
   "metadata": {},
   "outputs": [],
   "source": [
    "# Open 'difference' datasets\n",
    "kaloevig_diff = pd.read_csv(\"kaloevig_difference.csv\")\n",
    "loegten_diff = pd.read_csv(\"loegten_difference.csv\")"
   ]
  },
  {
   "cell_type": "markdown",
   "id": "92dec9e6-184b-4867-9ec3-6c829d91d95c",
   "metadata": {},
   "source": [
    "Select all the bins where differences in metrics are 0s. We also have to filter by Completeness >= 50 and Contamination < 10. Since the differences are 0, it does not matter by which column we should filter. However, I will select the MetaDecoder bin names for the final dataset because they potentially contain also `metadecoder` names (but again, it does not matter what bins to choose because they have no difference)."
   ]
  },
  {
   "cell_type": "code",
   "execution_count": 17,
   "id": "2584bd68-3ecc-410d-83b6-ac67b0ff5e05",
   "metadata": {},
   "outputs": [],
   "source": [
    "# Select bins where all differences are 0s\n",
    "kaloevig_no_diff_metrics = kaloevig_diff[(kaloevig_diff.iloc[:, 18:] == 0).all(axis=1)]\n",
    "loegten_no_diff_metrics = loegten_diff[(loegten_diff.iloc[:, 18:] == 0).all(axis=1)]\n",
    "\n",
    "# Convert to dataframe and rename columns to Bin Id to concatenate it with kaloevig_final\n",
    "kaloevig_no_diff_metrics = pd.DataFrame(kaloevig_no_diff_metrics).rename(\n",
    "    columns={\"assembly_MD\": \"Bin Id\"}\n",
    ")\n",
    "loegten_no_diff_metrics = pd.DataFrame(loegten_no_diff_metrics).rename(\n",
    "    columns={\"assembly_MD\": \"Bin Id\"}\n",
    ")\n",
    "\n",
    "# Filter by completeness >= 50 and contamination < 10\n",
    "kaloevig_no_diff_metrics = kaloevig_no_diff_metrics[\n",
    "    (kaloevig_no_diff_metrics[\"Completeness_MD\"] >= 50)\n",
    "    & (kaloevig_no_diff_metrics[\"Contamination_MD\"] < 10)\n",
    "]\n",
    "\n",
    "loegten_no_diff_metrics = loegten_no_diff_metrics[\n",
    "    (loegten_no_diff_metrics[\"Completeness_MD\"] >= 50)\n",
    "    & (loegten_no_diff_metrics[\"Contamination_MD\"] < 10)\n",
    "]\n",
    "\n",
    "# Select the Bin Id and convert Series to dataframe for concatenation\n",
    "kaloevig_no_diff_metrics = pd.DataFrame(\n",
    "    kaloevig_no_diff_metrics[\"Bin Id\"], columns=[\"Bin Id\"]\n",
    ")\n",
    "loegten_no_diff_metrics = pd.DataFrame(\n",
    "    loegten_no_diff_metrics[\"Bin Id\"], columns=[\"Bin Id\"]\n",
    ")"
   ]
  },
  {
   "cell_type": "code",
   "execution_count": 18,
   "id": "73e4e4cd-36c0-4054-9904-8f988b6b51a9",
   "metadata": {},
   "outputs": [],
   "source": [
    "# Add bins with no differences to the final dataset\n",
    "kaloevig_final = concat_df(kaloevig_final, kaloevig_no_diff_metrics)\n",
    "loegten_final = concat_df(loegten_final, loegten_no_diff_metrics)"
   ]
  },
  {
   "cell_type": "markdown",
   "id": "d7b8fd9d-28b6-4605-ab1b-2f39c9a72f38",
   "metadata": {},
   "source": [
    "Now select the bins with differences in the metrics."
   ]
  },
  {
   "cell_type": "code",
   "execution_count": 19,
   "id": "f293c0fc-af77-470f-9283-ebc726546442",
   "metadata": {
    "tags": []
   },
   "outputs": [],
   "source": [
    "# Select bins where with differences in metrics\n",
    "kaloevig_diff_metrics = kaloevig_diff[~(kaloevig_diff.iloc[:, 18:] == 0).all(axis=1)]\n",
    "loegten_diff_metrics = loegten_diff[~(loegten_diff.iloc[:, 18:] == 0).all(axis=1)]"
   ]
  },
  {
   "cell_type": "code",
   "execution_count": 20,
   "id": "9e1353c9-8d18-47f2-b636-faf4385838cb",
   "metadata": {},
   "outputs": [],
   "source": [
    "def add_best_bins(df):\n",
    "    \"\"\"\n",
    "    Accept a dataframe with assembly names (for either MetaDecoder or non-MetaDecoder),\n",
    "    contamination/completeness differences and return a list of the best bins based on these criteria:\n",
    "    1. If contamination_diff < 0 and contamination < 10 and completeness >= 50: select assembly_MD (MetaDecoder is better) else assembly_no_MD\n",
    "    2. If contamination is equal: select the bin with the highest completeness (but completeness >= 50 and contamination < 10)\n",
    "    \"\"\"\n",
    "    bins_to_add = []\n",
    "\n",
    "    for row in df.itertuples():\n",
    "        assembly_no_MD = row[1]\n",
    "        assembly_MD = row[13]\n",
    "\n",
    "        completeness_no_MD = row[8]\n",
    "        contamination_no_MD = row[9]\n",
    "\n",
    "        completeness_MD = row[11]\n",
    "        contamination_MD = row[12]\n",
    "\n",
    "        completeness_diff = row[19]\n",
    "        contamination_diff = row[20]\n",
    "\n",
    "        if contamination_diff < 0 and contamination_MD < 10 and completeness_MD >= 50:\n",
    "            bins_to_add.append(assembly_MD)\n",
    "        elif (\n",
    "            contamination_diff > 0\n",
    "            and contamination_no_MD < 10\n",
    "            and completeness_no_MD >= 50\n",
    "        ):\n",
    "            bins_to_add.append(assembly_no_MD)\n",
    "        elif contamination_diff == 0:  # If contaminations are equal\n",
    "            if (\n",
    "                completeness_diff > 0\n",
    "                and completeness_MD >= 50\n",
    "                and contamination_MD < 10\n",
    "            ):\n",
    "                bins_to_add.append(assembly_MD)\n",
    "            elif (\n",
    "                completeness_diff <= 0\n",
    "                and completeness_no_MD >= 50\n",
    "                and contamination_no_MD < 10\n",
    "            ):\n",
    "                bins_to_add.append(assembly_no_MD)\n",
    "        else:\n",
    "            continue\n",
    "    return bins_to_add"
   ]
  },
  {
   "cell_type": "code",
   "execution_count": 21,
   "id": "3762a9ba-a594-4d93-8a41-ce4f4096f6fa",
   "metadata": {},
   "outputs": [],
   "source": [
    "# Select bins to add to the final datasets\n",
    "kaloevig_bins_to_add = add_best_bins(kaloevig_diff_metrics)\n",
    "loegten_bins_to_add = add_best_bins(loegten_diff_metrics)"
   ]
  },
  {
   "cell_type": "code",
   "execution_count": 22,
   "id": "effc3693-a5a3-4478-b42b-e455d3452fd6",
   "metadata": {},
   "outputs": [],
   "source": [
    "kaloevig_added_bins = pd.DataFrame(kaloevig_bins_to_add, columns=[\"Bin Id\"])\n",
    "loegten_added_bins = pd.DataFrame(loegten_bins_to_add, columns=[\"Bin Id\"])"
   ]
  },
  {
   "cell_type": "code",
   "execution_count": 23,
   "id": "101c390c-c755-40f1-a573-0f21d206da33",
   "metadata": {},
   "outputs": [
    {
     "data": {
      "text/html": [
       "<div>\n",
       "<style scoped>\n",
       "    .dataframe tbody tr th:only-of-type {\n",
       "        vertical-align: middle;\n",
       "    }\n",
       "\n",
       "    .dataframe tbody tr th {\n",
       "        vertical-align: top;\n",
       "    }\n",
       "\n",
       "    .dataframe thead th {\n",
       "        text-align: right;\n",
       "    }\n",
       "</style>\n",
       "<table border=\"1\" class=\"dataframe\">\n",
       "  <thead>\n",
       "    <tr style=\"text-align: right;\">\n",
       "      <th></th>\n",
       "      <th>Bin Id</th>\n",
       "    </tr>\n",
       "  </thead>\n",
       "  <tbody>\n",
       "    <tr>\n",
       "      <th>0</th>\n",
       "      <td>maxbin_bin.10</td>\n",
       "    </tr>\n",
       "    <tr>\n",
       "      <th>1</th>\n",
       "      <td>maxbin_bin.121_sub</td>\n",
       "    </tr>\n",
       "    <tr>\n",
       "      <th>2</th>\n",
       "      <td>maxbin_bin.128_sub</td>\n",
       "    </tr>\n",
       "    <tr>\n",
       "      <th>3</th>\n",
       "      <td>maxbin_bin.243</td>\n",
       "    </tr>\n",
       "    <tr>\n",
       "      <th>4</th>\n",
       "      <td>maxbin_bin.326</td>\n",
       "    </tr>\n",
       "  </tbody>\n",
       "</table>\n",
       "</div>"
      ],
      "text/plain": [
       "               Bin Id\n",
       "0       maxbin_bin.10\n",
       "1  maxbin_bin.121_sub\n",
       "2  maxbin_bin.128_sub\n",
       "3      maxbin_bin.243\n",
       "4      maxbin_bin.326"
      ]
     },
     "execution_count": 23,
     "metadata": {},
     "output_type": "execute_result"
    }
   ],
   "source": [
    "kaloevig_added_bins.head()"
   ]
  },
  {
   "cell_type": "code",
   "execution_count": 24,
   "id": "7ddbc396-2b13-4476-b6a4-c804a4f730d8",
   "metadata": {},
   "outputs": [
    {
     "data": {
      "text/html": [
       "<div>\n",
       "<style scoped>\n",
       "    .dataframe tbody tr th:only-of-type {\n",
       "        vertical-align: middle;\n",
       "    }\n",
       "\n",
       "    .dataframe tbody tr th {\n",
       "        vertical-align: top;\n",
       "    }\n",
       "\n",
       "    .dataframe thead th {\n",
       "        text-align: right;\n",
       "    }\n",
       "</style>\n",
       "<table border=\"1\" class=\"dataframe\">\n",
       "  <thead>\n",
       "    <tr style=\"text-align: right;\">\n",
       "      <th></th>\n",
       "      <th>Bin Id</th>\n",
       "    </tr>\n",
       "  </thead>\n",
       "  <tbody>\n",
       "    <tr>\n",
       "      <th>0</th>\n",
       "      <td>metadecoder_loegten.metadecoder.1170</td>\n",
       "    </tr>\n",
       "    <tr>\n",
       "      <th>1</th>\n",
       "      <td>maxbin_bin.135</td>\n",
       "    </tr>\n",
       "    <tr>\n",
       "      <th>2</th>\n",
       "      <td>maxbin_bin.147_sub</td>\n",
       "    </tr>\n",
       "    <tr>\n",
       "      <th>3</th>\n",
       "      <td>maxbin_bin.231</td>\n",
       "    </tr>\n",
       "    <tr>\n",
       "      <th>4</th>\n",
       "      <td>maxbin_bin.520</td>\n",
       "    </tr>\n",
       "  </tbody>\n",
       "</table>\n",
       "</div>"
      ],
      "text/plain": [
       "                                 Bin Id\n",
       "0  metadecoder_loegten.metadecoder.1170\n",
       "1                        maxbin_bin.135\n",
       "2                    maxbin_bin.147_sub\n",
       "3                        maxbin_bin.231\n",
       "4                        maxbin_bin.520"
      ]
     },
     "execution_count": 24,
     "metadata": {},
     "output_type": "execute_result"
    }
   ],
   "source": [
    "loegten_added_bins.head()"
   ]
  },
  {
   "cell_type": "markdown",
   "id": "124aeaf8-fb08-40b2-9ab5-5f994b316220",
   "metadata": {},
   "source": [
    "Finally, add these bins to the final dataset. That's important to **note that sometimes the contamination in the MetaDecoder dataset is higher than in the non-MetaDecoder dataset but the non-MetaDecoder bins were selected nonetheless because completeness must be >= 50** (if it's not, it does not matter if contamination is smaller). But if completeness >= 50, then the contamination metric is prioritized. For example, if in the MetaDecoder dataset the completeness is 60 and contamination is 2, and in the non-MetaDecoder dataset the completeness is 95 and contamination is 9, the MetaDecoder bin will be selected because its contamination is lower (2 < 9) even though its completeness is lower (but still higher than the threshold of 50).\n"
   ]
  },
  {
   "cell_type": "code",
   "execution_count": 25,
   "id": "1efaef71-ddb5-4663-8e6f-0179096aeb99",
   "metadata": {},
   "outputs": [],
   "source": [
    "kaloevig_final = concat_df(kaloevig_final, kaloevig_added_bins)\n",
    "loegten_final = concat_df(loegten_final, loegten_added_bins)"
   ]
  },
  {
   "cell_type": "code",
   "execution_count": 26,
   "id": "4aaf8f83-b05e-47c0-9157-bd0d07545d37",
   "metadata": {},
   "outputs": [
    {
     "data": {
      "text/html": [
       "<div>\n",
       "<style scoped>\n",
       "    .dataframe tbody tr th:only-of-type {\n",
       "        vertical-align: middle;\n",
       "    }\n",
       "\n",
       "    .dataframe tbody tr th {\n",
       "        vertical-align: top;\n",
       "    }\n",
       "\n",
       "    .dataframe thead th {\n",
       "        text-align: right;\n",
       "    }\n",
       "</style>\n",
       "<table border=\"1\" class=\"dataframe\">\n",
       "  <thead>\n",
       "    <tr style=\"text-align: right;\">\n",
       "      <th></th>\n",
       "      <th>assembly_no_MD</th>\n",
       "      <th># contigs_no_MD</th>\n",
       "      <th>Largest contig_no_MD</th>\n",
       "      <th>Total length_no_MD</th>\n",
       "      <th>N50_no_MD</th>\n",
       "      <th>L50_no_MD</th>\n",
       "      <th>query_no_MD</th>\n",
       "      <th>Completeness_no_MD</th>\n",
       "      <th>Contamination_no_MD</th>\n",
       "      <th>reference_MD</th>\n",
       "      <th>Completeness_MD</th>\n",
       "      <th>Contamination_MD</th>\n",
       "      <th>assembly_MD</th>\n",
       "      <th># contigs_MD</th>\n",
       "      <th>Largest contig_MD</th>\n",
       "      <th>Total length_MD</th>\n",
       "      <th>N50_MD</th>\n",
       "      <th>L50_MD</th>\n",
       "      <th>completeness_diff</th>\n",
       "      <th>contamination_diff</th>\n",
       "      <th>#_contigs_diff</th>\n",
       "      <th>largest_contig_diff</th>\n",
       "      <th>total_length_diff</th>\n",
       "      <th>N50_diff</th>\n",
       "      <th>L50_diff</th>\n",
       "    </tr>\n",
       "  </thead>\n",
       "  <tbody>\n",
       "  </tbody>\n",
       "</table>\n",
       "</div>"
      ],
      "text/plain": [
       "Empty DataFrame\n",
       "Columns: [assembly_no_MD, # contigs_no_MD, Largest contig_no_MD, Total length_no_MD, N50_no_MD, L50_no_MD, query_no_MD, Completeness_no_MD, Contamination_no_MD, reference_MD, Completeness_MD, Contamination_MD, assembly_MD, # contigs_MD, Largest contig_MD, Total length_MD, N50_MD, L50_MD, completeness_diff, contamination_diff, #_contigs_diff, largest_contig_diff, total_length_diff, N50_diff, L50_diff]\n",
       "Index: []"
      ]
     },
     "execution_count": 26,
     "metadata": {},
     "output_type": "execute_result"
    }
   ],
   "source": [
    "dup = kaloevig_final[kaloevig_final.duplicated()]\n",
    "kaloevig_diff[kaloevig_diff[\"assembly_MD\"].isin(dup[\"Bin Id\"])]"
   ]
  },
  {
   "cell_type": "code",
   "execution_count": 27,
   "id": "0e6135a4-69ca-4ce2-a881-95f60ec2f16a",
   "metadata": {},
   "outputs": [
    {
     "data": {
      "text/html": [
       "<div>\n",
       "<style scoped>\n",
       "    .dataframe tbody tr th:only-of-type {\n",
       "        vertical-align: middle;\n",
       "    }\n",
       "\n",
       "    .dataframe tbody tr th {\n",
       "        vertical-align: top;\n",
       "    }\n",
       "\n",
       "    .dataframe thead th {\n",
       "        text-align: right;\n",
       "    }\n",
       "</style>\n",
       "<table border=\"1\" class=\"dataframe\">\n",
       "  <thead>\n",
       "    <tr style=\"text-align: right;\">\n",
       "      <th></th>\n",
       "      <th>Bin Id</th>\n",
       "    </tr>\n",
       "  </thead>\n",
       "  <tbody>\n",
       "    <tr>\n",
       "      <th>214</th>\n",
       "      <td>maxbin_bin.55_sub</td>\n",
       "    </tr>\n",
       "  </tbody>\n",
       "</table>\n",
       "</div>"
      ],
      "text/plain": [
       "                Bin Id\n",
       "214  maxbin_bin.55_sub"
      ]
     },
     "execution_count": 27,
     "metadata": {},
     "output_type": "execute_result"
    }
   ],
   "source": [
    "kaloevig_final[kaloevig_final[\"Bin Id\"] == \"maxbin_bin.55_sub\"]"
   ]
  },
  {
   "cell_type": "code",
   "execution_count": 28,
   "id": "85e99194-584f-4e45-ab50-5e1b71d157e6",
   "metadata": {},
   "outputs": [
    {
     "data": {
      "text/html": [
       "<div>\n",
       "<style scoped>\n",
       "    .dataframe tbody tr th:only-of-type {\n",
       "        vertical-align: middle;\n",
       "    }\n",
       "\n",
       "    .dataframe tbody tr th {\n",
       "        vertical-align: top;\n",
       "    }\n",
       "\n",
       "    .dataframe thead th {\n",
       "        text-align: right;\n",
       "    }\n",
       "</style>\n",
       "<table border=\"1\" class=\"dataframe\">\n",
       "  <thead>\n",
       "    <tr style=\"text-align: right;\">\n",
       "      <th></th>\n",
       "      <th>Bin Id</th>\n",
       "    </tr>\n",
       "  </thead>\n",
       "  <tbody>\n",
       "  </tbody>\n",
       "</table>\n",
       "</div>"
      ],
      "text/plain": [
       "Empty DataFrame\n",
       "Columns: [Bin Id]\n",
       "Index: []"
      ]
     },
     "execution_count": 28,
     "metadata": {},
     "output_type": "execute_result"
    }
   ],
   "source": [
    "kaloevig_final[kaloevig_final.duplicated()]"
   ]
  },
  {
   "cell_type": "code",
   "execution_count": 29,
   "id": "f67f10d7-97ec-40ce-8051-d4d37cf75637",
   "metadata": {},
   "outputs": [
    {
     "data": {
      "text/html": [
       "<div>\n",
       "<style scoped>\n",
       "    .dataframe tbody tr th:only-of-type {\n",
       "        vertical-align: middle;\n",
       "    }\n",
       "\n",
       "    .dataframe tbody tr th {\n",
       "        vertical-align: top;\n",
       "    }\n",
       "\n",
       "    .dataframe thead th {\n",
       "        text-align: right;\n",
       "    }\n",
       "</style>\n",
       "<table border=\"1\" class=\"dataframe\">\n",
       "  <thead>\n",
       "    <tr style=\"text-align: right;\">\n",
       "      <th></th>\n",
       "      <th>Bin Id</th>\n",
       "    </tr>\n",
       "  </thead>\n",
       "  <tbody>\n",
       "  </tbody>\n",
       "</table>\n",
       "</div>"
      ],
      "text/plain": [
       "Empty DataFrame\n",
       "Columns: [Bin Id]\n",
       "Index: []"
      ]
     },
     "execution_count": 29,
     "metadata": {},
     "output_type": "execute_result"
    }
   ],
   "source": [
    "loegten_final[loegten_final.duplicated()]"
   ]
  },
  {
   "cell_type": "code",
   "execution_count": 30,
   "id": "ba7d3d06-f9be-4d18-915f-88134fef09d3",
   "metadata": {},
   "outputs": [],
   "source": [
    "kaloevig_final.to_csv(\"best_kaloevig_bins.csv\", index=False)\n",
    "loegten_final.to_csv(\"best_loegten_bins.csv\", index=False)"
   ]
  }
 ],
 "metadata": {
  "kernelspec": {
   "display_name": "Python 3 (ipykernel)",
   "language": "python",
   "name": "python3"
  },
  "language_info": {
   "codemirror_mode": {
    "name": "ipython",
    "version": 3
   },
   "file_extension": ".py",
   "mimetype": "text/x-python",
   "name": "python",
   "nbconvert_exporter": "python",
   "pygments_lexer": "ipython3",
   "version": "3.10.4"
  }
 },
 "nbformat": 4,
 "nbformat_minor": 5
}
